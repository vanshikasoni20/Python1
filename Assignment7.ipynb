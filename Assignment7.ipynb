{
 "cells": [
  {
   "cell_type": "code",
   "execution_count": 2,
   "id": "0ec5f069",
   "metadata": {},
   "outputs": [
    {
     "name": "stdout",
     "output_type": "stream",
     "text": [
      "[('hey', 1), ('hello', 1), ('regex', 1)]\n"
     ]
    }
   ],
   "source": [
    "# myList=[[1,2,3,4],[5,6,7,8],[9,10,11,12],[13,14,15,16]]\n",
    "# 0th and 2nd index data nikalna hh of each element of list\n",
    "# take 3 strings in a list take 1st word from each string \n",
    "#which gives output as (1st word,1) o/p as list of tuple values(dictionary)\n",
    "# i/p: [\"hey tushar\",'hello regex']   o/p: [(hey,1),(hello,1)]y=[0,1,2]\n",
    "\n",
    "y=[0,1,2]\n",
    "def func(str1,y):\n",
    "    x=str1.split()\n",
    "    #firstword=x[0]\n",
    "    return x[0],1\n",
    "mylist=[\"hey tushar\",\"hello world\",\"regex software\"]\n",
    "result=list (map(func,mylist,y))\n",
    "print(result)"
   ]
  },
  {
   "cell_type": "code",
   "execution_count": null,
   "id": "2786fbac",
   "metadata": {},
   "outputs": [],
   "source": []
  }
 ],
 "metadata": {
  "kernelspec": {
   "display_name": "Python 3 (ipykernel)",
   "language": "python",
   "name": "python3"
  },
  "language_info": {
   "codemirror_mode": {
    "name": "ipython",
    "version": 3
   },
   "file_extension": ".py",
   "mimetype": "text/x-python",
   "name": "python",
   "nbconvert_exporter": "python",
   "pygments_lexer": "ipython3",
   "version": "3.9.7"
  }
 },
 "nbformat": 4,
 "nbformat_minor": 5
}
