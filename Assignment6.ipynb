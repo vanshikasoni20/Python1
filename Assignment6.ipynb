{
 "cells": [
  {
   "cell_type": "code",
   "execution_count": null,
   "id": "f1065151",
   "metadata": {},
   "outputs": [],
   "source": [
    "# learn about first class function and high order function ==== vv imp\n",
    "# learn about different life scope of a variable === global,local,etc"
   ]
  },
  {
   "cell_type": "code",
   "execution_count": 3,
   "id": "7026a1e1",
   "metadata": {},
   "outputs": [
    {
     "name": "stdout",
     "output_type": "stream",
     "text": [
      "Enter a string: Vanshika\n",
      "Modified string is = eVanshikay\n"
     ]
    }
   ],
   "source": [
    "#create a function and take a input as parameter\n",
    "#if the third index is not a vowel then add e at starting position and y at end of the string\n",
    "#else add ing at the end of the string\n",
    "\n",
    "def String(input_str):\n",
    "    vowels=['a','e','i','o','u']\n",
    "    \n",
    "    if len(input_str)>2 and input_str[2].lower() not in vowels:\n",
    "        modified_str='e' + input_str + 'y'\n",
    "    else:\n",
    "        modified_str=input_str + 'ing'\n",
    "    \n",
    "    return modified_str\n",
    "\n",
    "input_str=input(\"Enter a string: \")\n",
    "output_str= String(input_str)\n",
    "print(\"Modified string is =\",output_str)"
   ]
  },
  {
   "cell_type": "code",
   "execution_count": null,
   "id": "3bb5cecf",
   "metadata": {},
   "outputs": [],
   "source": []
  }
 ],
 "metadata": {
  "kernelspec": {
   "display_name": "Python 3 (ipykernel)",
   "language": "python",
   "name": "python3"
  },
  "language_info": {
   "codemirror_mode": {
    "name": "ipython",
    "version": 3
   },
   "file_extension": ".py",
   "mimetype": "text/x-python",
   "name": "python",
   "nbconvert_exporter": "python",
   "pygments_lexer": "ipython3",
   "version": "3.9.7"
  }
 },
 "nbformat": 4,
 "nbformat_minor": 5
}
