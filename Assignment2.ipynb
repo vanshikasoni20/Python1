{
 "cells": [
  {
   "cell_type": "code",
   "execution_count": 3,
   "id": "89d51af0",
   "metadata": {},
   "outputs": [
    {
     "name": "stdout",
     "output_type": "stream",
     "text": [
      "Enter a string:poornima\n",
      "poornima is not an palindrome\n"
     ]
    }
   ],
   "source": [
    "#find palindrome using for loop\n",
    "x=input(\"Enter a string:\")\n",
    "y=\"\"\n",
    "for i in x:\n",
    "    y=i+y\n",
    "if(x==y):\n",
    "    print(x,\"is an palindrome\")\n",
    "else: \n",
    "    print(x,\"is not an palindrome\")"
   ]
  },
  {
   "cell_type": "code",
   "execution_count": 5,
   "id": "f55ed1bf",
   "metadata": {},
   "outputs": [
    {
     "name": "stdout",
     "output_type": "stream",
     "text": [
      "Enter a string:poornima\n",
      "Total number of vowels: 4\n"
     ]
    }
   ],
   "source": [
    "# take a input from the user and count how many vowels are there(total count)\n",
    "vowels=\"aeiouAEIOU\"\n",
    "n=input(\"Enter a string:\")\n",
    "vcount=0\n",
    "for char in n:\n",
    "    if char in vowels:\n",
    "        vcount+=1\n",
    "print(\"Total number of vowels:\",vcount)"
   ]
  },
  {
   "cell_type": "code",
   "execution_count": null,
   "id": "b2fc2354",
   "metadata": {},
   "outputs": [],
   "source": [
    "# take a input from the user and wherever we "
   ]
  }
 ],
 "metadata": {
  "kernelspec": {
   "display_name": "Python 3 (ipykernel)",
   "language": "python",
   "name": "python3"
  },
  "language_info": {
   "codemirror_mode": {
    "name": "ipython",
    "version": 3
   },
   "file_extension": ".py",
   "mimetype": "text/x-python",
   "name": "python",
   "nbconvert_exporter": "python",
   "pygments_lexer": "ipython3",
   "version": "3.9.7"
  }
 },
 "nbformat": 4,
 "nbformat_minor": 5
}
