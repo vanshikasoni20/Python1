{
 "cells": [
  {
   "cell_type": "code",
   "execution_count": 3,
   "id": "89d51af0",
   "metadata": {},
   "outputs": [
    {
     "name": "stdout",
     "output_type": "stream",
     "text": [
      "Enter a string:poornima\n",
      "poornima is not an palindrome\n"
     ]
    }
   ],
   "source": [
    "#find palindrome using for loop\n",
    "x=input(\"Enter a string:\")\n",
    "y=\"\"\n",
    "for i in x:\n",
    "    y=i+y\n",
    "if(x==y):\n",
    "    print(x,\"is an palindrome\")\n",
    "else: \n",
    "    print(x,\"is not an palindrome\")"
   ]
  },
  {
   "cell_type": "code",
   "execution_count": 5,
   "id": "f55ed1bf",
   "metadata": {},
   "outputs": [
    {
     "name": "stdout",
     "output_type": "stream",
     "text": [
      "Enter a string:poornima\n",
      "Total number of vowels: 4\n"
     ]
    }
   ],
   "source": [
    "# take a input from the user and count how many vowels are there(total count)\n",
    "vowels=\"aeiouAEIOU\"\n",
    "n=input(\"Enter a string:\")\n",
    "vcount=0\n",
    "for char in n:\n",
    "    if char in vowels:\n",
    "        vcount+=1\n",
    "print(\"Total number of vowels:\",vcount)"
   ]
  },
  {
   "cell_type": "code",
   "execution_count": 1,
   "id": "b2fc2354",
   "metadata": {},
   "outputs": [
    {
     "name": "stdout",
     "output_type": "stream",
     "text": [
      "Enter string:vanshika\n",
      "a= 2 e= 0 i= 1 o= 0 u= 0\n"
     ]
    }
   ],
   "source": [
    "# take a input from the user and count number of individuals vowels...\n",
    "x=input(\"Enter string:\")\n",
    "count1=0\n",
    "count2=0\n",
    "count3=0\n",
    "count4=0\n",
    "count5=0\n",
    "for i in x:\n",
    "    if(i=='a'):\n",
    "        count1+=1\n",
    "    if(i=='e'):\n",
    "        count2+=1\n",
    "    if(i=='i'):\n",
    "        count3+=1\n",
    "    if(i=='o'):\n",
    "        count4+=1\n",
    "    if(i=='u'):\n",
    "        count5+=1\n",
    "print(\"a=\",count1,\"e=\",count2,\"i=\",count3,\"o=\",count4,\"u=\",count5,)"
   ]
  },
  {
   "cell_type": "code",
   "execution_count": 2,
   "id": "eaa50eaf",
   "metadata": {},
   "outputs": [
    {
     "name": "stdout",
     "output_type": "stream",
     "text": [
      "Enter string:vanshika\n",
      "v#nsh#k#\n"
     ]
    }
   ],
   "source": [
    "# take a input from the user and wherever we find vowel then replace it with #\n",
    "x=input(\"Enter string:\")\n",
    "for i in x:\n",
    "    if(i=='a' or i=='e' or i=='i' or i=='o' or i=='u'):\n",
    "        x=x.replace(i,'#')\n",
    "print(x)"
   ]
  },
  {
   "cell_type": "code",
   "execution_count": null,
   "id": "b62cacb0",
   "metadata": {},
   "outputs": [],
   "source": []
  }
 ],
 "metadata": {
  "kernelspec": {
   "display_name": "Python 3 (ipykernel)",
   "language": "python",
   "name": "python3"
  },
  "language_info": {
   "codemirror_mode": {
    "name": "ipython",
    "version": 3
   },
   "file_extension": ".py",
   "mimetype": "text/x-python",
   "name": "python",
   "nbconvert_exporter": "python",
   "pygments_lexer": "ipython3",
   "version": "3.9.7"
  }
 },
 "nbformat": 4,
 "nbformat_minor": 5
}
