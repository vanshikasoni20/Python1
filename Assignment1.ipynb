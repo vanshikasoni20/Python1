{
 "cells": [
  {
   "cell_type": "code",
   "execution_count": 1,
   "id": "84ac5172",
   "metadata": {},
   "outputs": [
    {
     "name": "stdout",
     "output_type": "stream",
     "text": [
      "Enter a number:21\n",
      "number is not lie between 6 and 20\n"
     ]
    }
   ],
   "source": [
    "# take a input from the user if input is integer and the number is from 6 to 20 then print otherwise not \n",
    "a=int(input(\"Enter a number:\"))\n",
    "#a=int(a)\n",
    "if(type(a) is int):\n",
    "    if(a>=6 and a<=20):\n",
    "          print(a,type(a))\n",
    "    else:\n",
    "        print(\"number is not lie between 6 and 20\")\n",
    "else:\n",
    "    print(\"not an integer type\")"
   ]
  },
  {
   "cell_type": "code",
   "execution_count": 2,
   "id": "e2ceb902",
   "metadata": {},
   "outputs": [
    {
     "name": "stdout",
     "output_type": "stream",
     "text": [
      "Enter a number:28\n",
      "Number is greater than 18\n",
      "Number is greater than 24 and less than 30\n"
     ]
    }
   ],
   "source": [
    "# write a program to check the number is greater than 18 then print greater than 18 ,\n",
    "#if number is from 24 to 30 then print number is greater than 24 and less than 30 \n",
    "#and if number is 35 then print number is 35\n",
    "\n",
    "\n",
    "n=int(input(\"Enter a number:\"))\n",
    "if(n>18):\n",
    "    print(\"Number is greater than 18\")\n",
    "if(n>=24 and n<=30):\n",
    "    print(\"Number is greater than 24 and less than 30\")\n",
    "if(n==35):\n",
    "    print(\"Number is 35\")\n"
   ]
  },
  {
   "cell_type": "code",
   "execution_count": 3,
   "id": "58f6aa2d",
   "metadata": {},
   "outputs": [
    {
     "name": "stdout",
     "output_type": "stream",
     "text": [
      "even number is  10\n",
      "odd number is  13\n",
      "even number is  16\n",
      "odd number is  19\n",
      "even number is  22\n"
     ]
    }
   ],
   "source": [
    "# print a number from 10 to 25 and stepwise is 3 and check if number is divisble by 2 print even else not \n",
    "for i in range(10,25,3):\n",
    "    if(i%2==0):\n",
    "        print(\"even number is \",i)\n",
    "    else:\n",
    "        print(\"odd number is \",i)"
   ]
  },
  {
   "cell_type": "code",
   "execution_count": 4,
   "id": "e4279458",
   "metadata": {},
   "outputs": [
    {
     "name": "stdout",
     "output_type": "stream",
     "text": [
      "enter a input:Vanshika\n",
      "8\n",
      "V\n",
      "n\n",
      "h\n",
      "k\n"
     ]
    }
   ],
   "source": [
    "# take a input from the user and check if the index is even then print which character or element is present\n",
    "i=input(\"enter a input:\")\n",
    "print(len(i))\n",
    "x= len(i)\n",
    "for a in range(0,x,1):\n",
    "    if(a%2==0):\n",
    "        print(i[a])"
   ]
  },
  {
   "cell_type": "code",
   "execution_count": 6,
   "id": "b9987915",
   "metadata": {},
   "outputs": [
    {
     "name": "stdout",
     "output_type": "stream",
     "text": [
      "enter a input:23\n",
      "23\n",
      "Odd number is  1\n",
      "Odd number is  3\n",
      "Odd number is  5\n",
      "Odd number is  7\n",
      "Odd number is  9\n",
      "Odd number is  11\n",
      "Odd number is  13\n",
      "Odd number is  15\n",
      "Odd number is  17\n",
      "Odd number is  19\n",
      "Odd number is  21\n"
     ]
    }
   ],
   "source": [
    "# take a input from the user integer type and check if input is integer then form loop from 0 to that number and print all odd number \n",
    "\n",
    "i=int(input(\"enter a input:\"))\n",
    "print(i)\n",
    "if(type(i) is int):\n",
    "    for a in range(0,i):\n",
    "        if(a%2!=0):\n",
    "            print(\"Odd number is \",a)"
   ]
  },
  {
   "cell_type": "code",
   "execution_count": null,
   "id": "19683c82",
   "metadata": {},
   "outputs": [],
   "source": [
    "# make a loop from 1 to 100 and find prime numbers \n",
    "for rows in range(2,100):\n",
    "    if rows>1:\n",
    "        for "
   ]
  },
  {
   "cell_type": "code",
   "execution_count": 7,
   "id": "2ad4051e",
   "metadata": {},
   "outputs": [
    {
     "name": "stdout",
     "output_type": "stream",
     "text": [
      "* * * * \n",
      "* * * \n",
      "* * \n",
      "* \n",
      "\n"
     ]
    }
   ],
   "source": [
    "# print inverted half triangle\n",
    "for rows in range(0,5):\n",
    "    for columns in range(4,rows,-1):\n",
    "        print(\"*\",end=\" \")\n",
    "    print()\n",
    "    "
   ]
  },
  {
   "cell_type": "code",
   "execution_count": 8,
   "id": "e27ca838",
   "metadata": {},
   "outputs": [
    {
     "name": "stdout",
     "output_type": "stream",
     "text": [
      "1 \n",
      "1 2 \n",
      "1 2 3 \n",
      "1 2 3 4 \n"
     ]
    }
   ],
   "source": [
    " \"\"\"print 1\n",
    "          12\n",
    "          123\n",
    "          1234  \"\"\" \n",
    "for rows in range(1,5):\n",
    "    #print(\"#\")\n",
    "    for columns in range(1,rows+1):\n",
    "        print(columns,end=\" \")\n",
    "    print()"
   ]
  },
  {
   "cell_type": "code",
   "execution_count": 9,
   "id": "a3154241",
   "metadata": {},
   "outputs": [
    {
     "name": "stdout",
     "output_type": "stream",
     "text": [
      "4321\n",
      " 321\n",
      "  21\n",
      "   1\n"
     ]
    }
   ],
   "source": [
    "#print inverted numbers\n",
    "\"\"\"\n",
    "4321\n",
    " 321\n",
    "  21\n",
    "   1\n",
    "   \n",
    "\"\"\"\n",
    "for row in range(4,0,-1):\n",
    "    for i in range(4,row,-1):\n",
    "        print(\" \",end=\"\")\n",
    "    for column in range(row,0,-1):\n",
    "        print(column,end=\"\")\n",
    "    print()"
   ]
  },
  {
   "cell_type": "code",
   "execution_count": 11,
   "id": "0f49d031",
   "metadata": {},
   "outputs": [
    {
     "name": "stdout",
     "output_type": "stream",
     "text": [
      "1 \n",
      "2 3 \n",
      "4 5 6 \n",
      "7 8 9 10 \n"
     ]
    }
   ],
   "source": [
    "\"\"\" print \n",
    "1\n",
    "2 3\n",
    "4 5 6\n",
    "7 8 9 10 \n",
    "\"\"\"\n",
    "n=1\n",
    "for rows in range(1,5):\n",
    "    for columns in range(1,rows+1):\n",
    "        print(n,end=\" \")\n",
    "        n+=1\n",
    "    print()"
   ]
  },
  {
   "cell_type": "code",
   "execution_count": null,
   "id": "547f2fc6",
   "metadata": {},
   "outputs": [],
   "source": []
  }
 ],
 "metadata": {
  "kernelspec": {
   "display_name": "Python 3 (ipykernel)",
   "language": "python",
   "name": "python3"
  },
  "language_info": {
   "codemirror_mode": {
    "name": "ipython",
    "version": 3
   },
   "file_extension": ".py",
   "mimetype": "text/x-python",
   "name": "python",
   "nbconvert_exporter": "python",
   "pygments_lexer": "ipython3",
   "version": "3.9.7"
  }
 },
 "nbformat": 4,
 "nbformat_minor": 5
}
