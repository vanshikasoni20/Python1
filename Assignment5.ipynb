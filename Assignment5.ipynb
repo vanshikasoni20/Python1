{
 "cells": [
  {
   "cell_type": "code",
   "execution_count": 2,
   "id": "ddb0a4a9",
   "metadata": {},
   "outputs": [
    {
     "name": "stdout",
     "output_type": "stream",
     "text": [
      "Enter value for a:12\n",
      "Enter value for b:23\n",
      "After swapping:\n",
      "a= 23\n",
      "b= 12\n"
     ]
    }
   ],
   "source": [
    "#how to swap a numbers without using this approach and without using third variable\n",
    "\n",
    "a=int(input(\"Enter value for a:\"))\n",
    "b=int(input(\"Enter value for b:\"))\n",
    "a=a+b\n",
    "b=a-b\n",
    "a=a-b\n",
    "print(\"After swapping:\")\n",
    "print(\"a=\",a)\n",
    "print(\"b=\",b)"
   ]
  },
  {
   "cell_type": "code",
   "execution_count": 5,
   "id": "65fb275e",
   "metadata": {},
   "outputs": [
    {
     "name": "stdout",
     "output_type": "stream",
     "text": [
      "Enter first number:4\n",
      "Enter second number:5\n",
      "LCM is : 20\n"
     ]
    }
   ],
   "source": [
    "# find lcm of two numbers\n",
    "n1=int(input(\"Enter first number:\"))\n",
    "n2=int(input(\"Enter second number:\"))\n",
    "if(n1>n2):\n",
    "    if(n1%n2==0):\n",
    "        print(\"LCM is :\",n1)\n",
    "    else:\n",
    "        big1=n1\n",
    "        for i in range(1,n1 *n2 +1):\n",
    "            big1+=1\n",
    "            if(big1 % n1==0 and big1% n2==0):\n",
    "                print(\"LCM is :\",big1)\n",
    "                break\n",
    "else:\n",
    "    if(n2%n1==0):\n",
    "        print(\"LCM is :\",n2)\n",
    "    else:\n",
    "        big2=n2\n",
    "        for i in range(1,n1 *n2 +1):\n",
    "            big2+=1\n",
    "            if(big2 % n1==0 and big2% n2==0):\n",
    "                print(\"LCM is :\",big2)\n",
    "                break"
   ]
  },
  {
   "cell_type": "code",
   "execution_count": 6,
   "id": "c13f3b77",
   "metadata": {},
   "outputs": [
    {
     "name": "stdout",
     "output_type": "stream",
     "text": [
      "Enter first number:12\n",
      "Enter second number:3\n",
      "HCFis : 3\n"
     ]
    }
   ],
   "source": [
    "# find hcf of two numbers\n",
    "n1=int(input(\"Enter first number:\"))\n",
    "n2=int(input(\"Enter second number:\"))\n",
    "if(n1>n2):\n",
    "    if(n1%n2==0):\n",
    "        print(\"HCFis :\",n2)\n",
    "    else:\n",
    "        low1=n2\n",
    "        for i in range(n2,0,-1):\n",
    "            low-=1\n",
    "            if(n1 % low1==0 and n2% low1==0):\n",
    "                print(\"HCF is :\",low1)\n",
    "                break\n",
    "else:\n",
    "    if(n2%n1==0):\n",
    "        print(\"HCF is :\",n1)\n",
    "    else:\n",
    "        low2=n1\n",
    "        for i in range(n1,0,-1):\n",
    "            low2-=1\n",
    "            if(n1%low2==0 and n2%low2==0):\n",
    "                print(\"HCF is :\",lo2)\n",
    "                break"
   ]
  },
  {
   "cell_type": "code",
   "execution_count": null,
   "id": "07627d66",
   "metadata": {},
   "outputs": [],
   "source": []
  }
 ],
 "metadata": {
  "kernelspec": {
   "display_name": "Python 3 (ipykernel)",
   "language": "python",
   "name": "python3"
  },
  "language_info": {
   "codemirror_mode": {
    "name": "ipython",
    "version": 3
   },
   "file_extension": ".py",
   "mimetype": "text/x-python",
   "name": "python",
   "nbconvert_exporter": "python",
   "pygments_lexer": "ipython3",
   "version": "3.9.7"
  }
 },
 "nbformat": 4,
 "nbformat_minor": 5
}
