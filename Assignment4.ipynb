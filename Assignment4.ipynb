{
 "cells": [
  {
   "cell_type": "code",
   "execution_count": 1,
   "id": "5407589c",
   "metadata": {},
   "outputs": [
    {
     "data": {
      "text/plain": [
       "{20}"
      ]
     },
     "execution_count": 1,
     "metadata": {},
     "output_type": "execute_result"
    }
   ],
   "source": [
    "# apply them on two sets ==>>  differenece,issubset,issuperset,isdisjoint,symmetric_difference_update\n",
    "SetA={20,30,40}\n",
    "SetB={30,40,50,60}\n",
    "SetA.difference(SetB)"
   ]
  },
  {
   "cell_type": "code",
   "execution_count": 2,
   "id": "7548dd7e",
   "metadata": {},
   "outputs": [
    {
     "data": {
      "text/plain": [
       "False"
      ]
     },
     "execution_count": 2,
     "metadata": {},
     "output_type": "execute_result"
    }
   ],
   "source": [
    "SetA.issubset(SetB)"
   ]
  },
  {
   "cell_type": "code",
   "execution_count": 3,
   "id": "b59e0f40",
   "metadata": {},
   "outputs": [
    {
     "data": {
      "text/plain": [
       "False"
      ]
     },
     "execution_count": 3,
     "metadata": {},
     "output_type": "execute_result"
    }
   ],
   "source": [
    "SetA.issuperset(SetB)"
   ]
  },
  {
   "cell_type": "code",
   "execution_count": 4,
   "id": "71899aae",
   "metadata": {},
   "outputs": [
    {
     "data": {
      "text/plain": [
       "False"
      ]
     },
     "execution_count": 4,
     "metadata": {},
     "output_type": "execute_result"
    }
   ],
   "source": [
    "SetA.isdisjoint(SetB)"
   ]
  },
  {
   "cell_type": "code",
   "execution_count": 5,
   "id": "4f16e6c8",
   "metadata": {},
   "outputs": [
    {
     "name": "stdout",
     "output_type": "stream",
     "text": [
      "{50, 20, 60}\n"
     ]
    }
   ],
   "source": [
    "SetA.symmetric_difference_update(SetB)\n",
    "print(SetA)"
   ]
  },
  {
   "cell_type": "code",
   "execution_count": 6,
   "id": "4d6efacc",
   "metadata": {},
   "outputs": [
    {
     "name": "stdout",
     "output_type": "stream",
     "text": [
      "[10, 20, 30]\n",
      "[40, 50, 60]\n"
     ]
    }
   ],
   "source": [
    "# convert data of list or set in string\n",
    "Set={10,20,30}\n",
    "List=[40,50,60]\n",
    "\n",
    "set_string=str(list(Set))\n",
    "list_string=str(List)\n",
    "\n",
    "print(set_string)\n",
    "print(list_string)"
   ]
  },
  {
   "cell_type": "code",
   "execution_count": 7,
   "id": "3be1142e",
   "metadata": {},
   "outputs": [
    {
     "data": {
      "text/plain": [
       "'\\nprint \\n*\\n**\\n***\\n****\\n***\\n**\\n*\\n\\n'"
      ]
     },
     "execution_count": 7,
     "metadata": {},
     "output_type": "execute_result"
    }
   ],
   "source": [
    "\"\"\"\n",
    "print \n",
    "*\n",
    "**\n",
    "***\n",
    "****\n",
    "***\n",
    "**\n",
    "*\n",
    "\n",
    "\"\"\"\n",
    "\n"
   ]
  },
  {
   "cell_type": "code",
   "execution_count": 8,
   "id": "9a9d1dd5",
   "metadata": {},
   "outputs": [
    {
     "name": "stdout",
     "output_type": "stream",
     "text": [
      "Enter input:5\n",
      "*\n",
      "**\n",
      "***\n",
      "****\n",
      "*****\n",
      "****\n",
      "***\n",
      "**\n",
      "*\n"
     ]
    }
   ],
   "source": [
    "n=int(input(\"Enter input:\"))\n",
    "# upper half of the pattern\n",
    "for i in range(1,n+1):\n",
    "    print('*' * i)\n",
    "\n",
    "# lower half of the pattern\n",
    "for i in range(n-1,0,-1):\n",
    "    print('*' * i)"
   ]
  },
  {
   "cell_type": "code",
   "execution_count": 9,
   "id": "665bd94f",
   "metadata": {},
   "outputs": [
    {
     "name": "stdout",
     "output_type": "stream",
     "text": [
      "****\n",
      "*  *\n",
      "*  *\n",
      "****\n"
     ]
    }
   ],
   "source": [
    "\"\"\"\n",
    "print square\n",
    "\n",
    "* * * *\n",
    "*     *\n",
    "*     *\n",
    "* * * * \n",
    "\n",
    "\"\"\"\n",
    "n=4\n",
    "for i in range(n):\n",
    "    for j in range(n):\n",
    "        if i==0 or i==n-1 or j==0 or j==n-1:\n",
    "            print(\"*\",end=\"\")\n",
    "            \n",
    "        else:\n",
    "            print(\" \",end=\"\")\n",
    "    print()"
   ]
  },
  {
   "cell_type": "code",
   "execution_count": 10,
   "id": "dc68d303",
   "metadata": {},
   "outputs": [
    {
     "name": "stdout",
     "output_type": "stream",
     "text": [
      "Enter input:6\n",
      "1\n",
      "*\n",
      "2\n",
      "**\n",
      "3\n",
      "***\n",
      "4\n",
      "****\n",
      "5\n",
      "*****\n",
      "6\n",
      "******\n"
     ]
    }
   ],
   "source": [
    "\"\"\"\n",
    " print\n",
    " 1\n",
    " *\n",
    " 2 \n",
    " * *\n",
    " 3\n",
    " * * *\n",
    " \"\"\"\n",
    "n=int(input(\"Enter input:\"))\n",
    "for i in range(1,n+1):\n",
    "    print(i)\n",
    "    for j in range(0,i):\n",
    "        print(\"*\",end=\"\")\n",
    "    print()"
   ]
  },
  {
   "cell_type": "code",
   "execution_count": 11,
   "id": "f61dec8c",
   "metadata": {},
   "outputs": [
    {
     "name": "stdout",
     "output_type": "stream",
     "text": [
      "ENTER INPUT: 6\n",
      "2 ****\n",
      "\n",
      "3 ********\n",
      "\n",
      "4 ****************\n",
      "\n",
      "5 ********************************\n",
      "\n"
     ]
    }
   ],
   "source": [
    "\"\"\"\n",
    "2 ****\n",
    "3 **......9\n",
    "4 ****........16\n",
    "5 *****........25\n",
    "\n",
    "\"\"\"\n",
    "n=int(input(\"ENTER INPUT: \"))\n",
    "for i in range(2,n):\n",
    "        print(i,\"*\"*(2**i))\n",
    "        print()\n",
    "   "
   ]
  },
  {
   "cell_type": "code",
   "execution_count": 12,
   "id": "02628d51",
   "metadata": {},
   "outputs": [
    {
     "name": "stdout",
     "output_type": "stream",
     "text": [
      "Enter Digits: 119\n",
      "Sum of digit is: 11\n",
      "119 is not divisible by 3.\n"
     ]
    }
   ],
   "source": [
    "# take a input from the user in the string format but user always enter number and number is in string ,check divisiblity rule for a number 3\n",
    "n=input(\"Enter Digits: \")\n",
    "# calculate first sum of digits using a loop\n",
    "sum=0\n",
    "for digit in n:\n",
    "    sum+=int(digit)\n",
    "print(\"Sum of digit is:\",sum)\n",
    "\n",
    "# now check if the sum of digits is divisible by 3 or not\n",
    "if sum%3==0:\n",
    "    print(n,\"is divisble by 3.\")\n",
    "else:\n",
    "    print(n,\"is not divisible by 3.\")"
   ]
  }
 ],
 "metadata": {
  "kernelspec": {
   "display_name": "Python 3 (ipykernel)",
   "language": "python",
   "name": "python3"
  },
  "language_info": {
   "codemirror_mode": {
    "name": "ipython",
    "version": 3
   },
   "file_extension": ".py",
   "mimetype": "text/x-python",
   "name": "python",
   "nbconvert_exporter": "python",
   "pygments_lexer": "ipython3",
   "version": "3.9.7"
  }
 },
 "nbformat": 4,
 "nbformat_minor": 5
}
